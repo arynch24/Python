{
  "nbformat": 4,
  "nbformat_minor": 0,
  "metadata": {
    "colab": {
      "provenance": []
    },
    "kernelspec": {
      "name": "python3",
      "display_name": "Python 3"
    },
    "language_info": {
      "name": "python"
    }
  },
  "cells": [
    {
      "cell_type": "code",
      "source": [
        "#Rotate a matrix by 90 -Anticlockwise\n",
        "\n",
        "\n",
        "M = [ [1,2,3,4],[5,6,7,8],[9,10,11,12],[13,14,15,16]]\n",
        "N = 4\n",
        "\n",
        "circles =0\n",
        "#start point 0,0\n",
        "i,j=0,0\n",
        "\n",
        "while(circles < N/2) :\n",
        "\n",
        "  cycles = N-1-2*circles\n",
        "  jumps = 0\n",
        "\n",
        "  while(jumps<cycles):\n",
        "    temp = M[i][j+jumps]\n",
        "    M[i][j+jumps] = M[i+jumps][j+cycles]\n",
        "    M[i+jumps][j+cycles] = M[i+cycles][j+cycles-jumps]\n",
        "    M[i+cycles][j+cycles-jumps] = M[i+cycles-jumps][j]\n",
        "    M[i+cycles-jumps][j] = temp\n",
        "    print(M)\n",
        "    jumps +=1\n",
        "  i += 1\n",
        "  j +=1\n",
        "  circles +=1\n",
        "\n",
        "print(M)\n",
        "\n",
        "\n"
      ],
      "metadata": {
        "colab": {
          "base_uri": "https://localhost:8080/"
        },
        "id": "pMEsl3sA0ox5",
        "outputId": "9e674335-bd4f-40f9-962a-748bd31da1f2"
      },
      "execution_count": null,
      "outputs": [
        {
          "output_type": "stream",
          "name": "stdout",
          "text": [
            "[[4, 2, 3, 16], [5, 6, 7, 8], [9, 10, 11, 12], [1, 14, 15, 13]]\n",
            "[[4, 8, 3, 16], [5, 6, 7, 15], [2, 10, 11, 12], [1, 14, 9, 13]]\n",
            "[[4, 8, 12, 16], [3, 6, 7, 15], [2, 10, 11, 14], [1, 5, 9, 13]]\n",
            "[[4, 8, 12, 16], [3, 7, 11, 15], [2, 6, 10, 14], [1, 5, 9, 13]]\n",
            "[[4, 8, 12, 16], [3, 7, 11, 15], [2, 6, 10, 14], [1, 5, 9, 13]]\n"
          ]
        }
      ]
    },
    {
      "cell_type": "code",
      "source": [
        "#Rotate a matrix by 90 - Clockwise\n",
        "\n",
        "\n",
        "M = [ [1,2,3,4],[5,6,7,8],[9,10,11,12],[13,14,15,16]]\n",
        "N = 4\n",
        "\n",
        "circles =0\n",
        "#start point 0,0\n",
        "i,j=0,0\n",
        "\n",
        "while(circles < N/2) :\n",
        "\n",
        "  cycles = N-1-2*circles\n",
        "  jumps = 0\n",
        "\n",
        "  while(jumps<cycles):\n",
        "    temp = M[i][j+jumps]\n",
        "    M[i][j+jumps] = M[i+cycles-jumps][j] #Bottom left to top left\n",
        "    M[i+cycles-jumps][j] = M[i+cycles][j+cycles-jumps]\n",
        "    M[i+cycles][j+cycles-jumps] =M[i+jumps][j+cycles]\n",
        "    M[i+jumps][j+cycles] = temp\n",
        "    print(M)\n",
        "    jumps +=1\n",
        "  i += 1\n",
        "  j +=1\n",
        "  circles +=1\n",
        "\n",
        "print(M)\n"
      ],
      "metadata": {
        "colab": {
          "base_uri": "https://localhost:8080/"
        },
        "id": "SELZ-DMg7r0x",
        "outputId": "b827175f-4ed3-4a2b-8ff5-d8cb5a16cce9"
      },
      "execution_count": null,
      "outputs": [
        {
          "output_type": "stream",
          "name": "stdout",
          "text": [
            "[[13, 2, 3, 1], [5, 6, 7, 8], [9, 10, 11, 12], [16, 14, 15, 4]]\n",
            "[[13, 9, 3, 1], [5, 6, 7, 2], [15, 10, 11, 12], [16, 14, 8, 4]]\n",
            "[[13, 9, 5, 1], [14, 6, 7, 2], [15, 10, 11, 3], [16, 12, 8, 4]]\n",
            "[[13, 9, 5, 1], [14, 10, 6, 2], [15, 11, 7, 3], [16, 12, 8, 4]]\n",
            "[[13, 9, 5, 1], [14, 10, 6, 2], [15, 11, 7, 3], [16, 12, 8, 4]]\n"
          ]
        }
      ]
    },
    {
      "cell_type": "code",
      "source": [
        "#Multiple 2 matrices\n",
        "\n",
        "M1 = [[2,3,4],[3,5,6],[4,5,3]]\n",
        "M2 = [[1,2,1],[-1,2,1],[3,2,1]]\n",
        "\n",
        "m,n,o = 3,3,3  # first is m*n , n*o\n",
        "\n",
        "M = [[0,0,0],[0,0,0],[0,0,0]]\n",
        "\n",
        "\n",
        "for i in range(m):\n",
        "  for j in range(o):\n",
        "    count =0\n",
        "    sum =0\n",
        "    while(count < len(M1[i])):\n",
        "      sum += M1[i][count]*M2[count][j]\n",
        "      count +=1\n",
        "    M[i][j] = sum\n",
        "\n",
        "print(M)\n",
        "\n"
      ],
      "metadata": {
        "colab": {
          "base_uri": "https://localhost:8080/"
        },
        "id": "C3kh3Ojt9ckE",
        "outputId": "3d5d101a-fa30-4e7e-8989-74ed8e546559"
      },
      "execution_count": null,
      "outputs": [
        {
          "output_type": "stream",
          "name": "stdout",
          "text": [
            "[[11, 18, 9], [16, 28, 14], [8, 24, 12]]\n"
          ]
        }
      ]
    },
    {
      "cell_type": "code",
      "source": [
        "def findRow(mat):\n",
        "  rows = len(mat)\n",
        "  cols = len(mat[0])\n",
        "\n",
        "  i,j,row = 0,cols-1,0\n",
        "  while(j>=0 and i<rows):\n",
        "    while(j>=0 and mat[i][j] ==1):\n",
        "      j -=1\n",
        "      row = i\n",
        "    i +=1\n",
        "  return row\n",
        "\n",
        "mat = [[1, 1, 1, 1],\n",
        "       [0, 1, 1, 1],\n",
        "       [0, 1, 1, 1],\n",
        "       [0, 0, 0, 0],\n",
        "       [1, 1, 1, 1]\n",
        "       ]\n",
        "\n",
        "print(findRow(mat))"
      ],
      "metadata": {
        "colab": {
          "base_uri": "https://localhost:8080/"
        },
        "id": "gV3Jkt3edtPM",
        "outputId": "a11273bd-fb08-4c24-b5c8-663b7eb172c8"
      },
      "execution_count": null,
      "outputs": [
        {
          "output_type": "stream",
          "name": "stdout",
          "text": [
            "0\n"
          ]
        }
      ]
    }
  ]
}