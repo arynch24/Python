{
  "nbformat": 4,
  "nbformat_minor": 0,
  "metadata": {
    "colab": {
      "provenance": []
    },
    "kernelspec": {
      "name": "python3",
      "display_name": "Python 3"
    },
    "language_info": {
      "name": "python"
    }
  },
  "cells": [
    {
      "cell_type": "markdown",
      "source": [
        "## Pass By Reference & Pass By Value.\n",
        "\n",
        "Python's argument passing model has often been a cause of confusion among developers, particularly those coming from languages like C++ and Java.\n",
        "\n",
        "\"Pass by value\" and \"pass by reference\" are two common ways that programming languages handle the passing of arguments (variables or values) to functions or methods. These two approaches define how changes made to the argument inside the function affect the original variable outside the function.\n",
        "\n",
        "### Pass by Value:\n",
        "\n",
        "In \"pass by value,\" a copy of the actual value of the argument is passed to the function. Changes made to the parameter inside the function do not affect the original argument outside the function. This approach is commonly associated with languages like C and C++.\n",
        "\n",
        "### Pass by Reference:\n",
        "\n",
        "In \"pass by reference,\" a reference (memory address or a pointer) to the original argument is passed to the function. Changes made to the parameter inside the function directly affect the original argument outside the function. This approach is commonly associated with languages like C++ (with reference types), Perl, and some scripting languages.\n"
      ],
      "metadata": {
        "id": "F0hYhUsxBhPB"
      }
    },
    {
      "cell_type": "markdown",
      "source": [
        "## Python uses a combination of pass-by-value and pass-by-reference depending on the object type:"
      ],
      "metadata": {
        "id": "ZW6CGwuMBnS2"
      }
    },
    {
      "cell_type": "markdown",
      "source": [
        "**Pass by Value:** Immutable objects, such as numbers (integers, floats), strings, and tuples, are passed by value. A copy of the object's value is created and assigned to a new local variable within the function. Changes made to the local variable do not affect the original object outside the function."
      ],
      "metadata": {
        "id": "N7-mPh0MBood"
      }
    },
    {
      "cell_type": "code",
      "source": [
        "num = 5\n",
        "\n",
        "def modify_number(num):\n",
        "    num += 1\n",
        "    print(\"Inside function:\", num)\n",
        "\n",
        "modify_number(num)\n",
        "\n",
        "print(\"Outside function:\", num)\n",
        "\n",
        "# Output:\n",
        "# Inside function: 6\n",
        "# Outside function: 5"
      ],
      "metadata": {
        "colab": {
          "base_uri": "https://localhost:8080/"
        },
        "id": "xfsV3QQTBueS",
        "outputId": "5f7aed7b-f35f-4906-f985-0aa600d66cb1"
      },
      "execution_count": null,
      "outputs": [
        {
          "output_type": "stream",
          "name": "stdout",
          "text": [
            "Inside function: 6\n",
            "Outside function: 5\n"
          ]
        }
      ]
    },
    {
      "cell_type": "markdown",
      "source": [
        "**Pass by Reference**: Mutable objects, such as lists, dictionaries, and custom objects, are passed by reference. The reference to the object is passed, not a copy of the object itself. Changes made to the mutable object inside the function affect the original object outside the function."
      ],
      "metadata": {
        "id": "O8H6ZdlsB9q1"
      }
    },
    {
      "cell_type": "code",
      "source": [
        "my_list = [1, 2, 3]\n",
        "\n",
        "\n",
        "def modify_list(lst):\n",
        "    lst.append(4)\n",
        "    print(\"Inside function:\", lst)\n",
        "\n",
        "modify_list(my_list)\n",
        "print(\"Outside function:\", my_list)\n",
        "\n",
        "# Output\n",
        "# Inside function: [1, 2, 3, 4]\n",
        "# Outside function: [1, 2, 3, 4]"
      ],
      "metadata": {
        "colab": {
          "base_uri": "https://localhost:8080/"
        },
        "id": "baSmjAj4CCKC",
        "outputId": "86cedb95-d2a9-4352-b1f1-d434ddf72517"
      },
      "execution_count": null,
      "outputs": [
        {
          "output_type": "stream",
          "name": "stdout",
          "text": [
            "Inside function: [1, 2, 3, 4]\n",
            "Outside function: [1, 2, 3, 4]\n"
          ]
        }
      ]
    },
    {
      "cell_type": "markdown",
      "source": [
        "## Lambda or Anonymous functions.\n",
        "\n",
        "Lambda functions are essentially unnamed and temporary functions that can be used for any operation requiring less than a few lines of code. They are particularly useful for situations where you want to quickly execute a function and then discard it immediately, without needing to save it for later use.\n",
        "\n",
        "Lambda functions in Python are also called anonymous functions. They are a perfect solution to writing functions right where they are used instead of separately defining them. Lambda functions are created using the lambda keyword, followed by one or many parameters and an expression. You can use lambda functions to write short and simple code that can be executed once and doesn't need to be named.\n"
      ],
      "metadata": {
        "id": "_Ze1IjCECMcX"
      }
    },
    {
      "cell_type": "code",
      "source": [
        "add = lambda x, y: x + y\n",
        "result = add(3, 5)\n",
        "print(result)  # Output: 8"
      ],
      "metadata": {
        "colab": {
          "base_uri": "https://localhost:8080/"
        },
        "id": "QvD0ly-9CQDZ",
        "outputId": "2ffe6945-69b9-4a0f-b8cb-f8c69e5c4bf6"
      },
      "execution_count": null,
      "outputs": [
        {
          "output_type": "stream",
          "name": "stdout",
          "text": [
            "8\n"
          ]
        }
      ]
    },
    {
      "cell_type": "markdown",
      "source": [
        "## Built-in functions.\n",
        "\n",
        "Python provides a wide range of built-in functions that are readily available for use without requiring any additional code or imports."
      ],
      "metadata": {
        "id": "m74mWbdwCVCD"
      }
    },
    {
      "cell_type": "markdown",
      "source": [
        "Here are some commonly used built-in functions in Python:\n",
        "\n",
        "- print(): Prints output to the console.\n",
        "- input(): Reads input from the user via the console.\n",
        "- len(): Returns the length of an object, such as a string, list, or tuple.\n",
        "- type(): Returns the type of an object.\n",
        "- range(): Generates a sequence of numbers.\n",
        "- int(), float(), str(), bool(): Converts a value to an integer, float, string, or boolean, respectively.\n",
        "- max(), min(): Returns the maximum or minimum value from a sequence or a set of arguments.\n",
        "- abs(): Returns the absolute value of a number.\n",
        "- sum(): Returns the sum of all elements in a sequence.\n",
        "- round(): Rounds a number to a specified number of decimal places.\n",
        "- sorted(): Returns a sorted version of a sequence or an iterable.\n",
        "- enumerate(): Returns an iterator of tuples containing index-value pairs.\n",
        "- zip(): Combines multiple iterables into a single iterable of tuples.\n",
        "- map(): Applies a function to each item in an iterable and returns an iterator of the results.\n",
        "- filter(): Filters elements from an iterable based on a given function.\n",
        "- any(), all(): Checks if any or all elements in an iterable are True.\n",
        "- open(): Opens a file for reading or writing.\n",
        "- eval(): Evaluates a string as a Python expression.\n",
        "- str.format(): Formats a string by substituting placeholders with values.\n",
        "- dir(): Returns a list of names in the current namespace or of an object's attributes.\n"
      ],
      "metadata": {
        "id": "rdrE5Wk-CXz8"
      }
    },
    {
      "cell_type": "markdown",
      "source": [
        "These built-in functions save you time and make your code simpler because you don't have to reinvent the wheel every time you want to do something common in your programs."
      ],
      "metadata": {
        "id": "_3-CUXRjCj_D"
      }
    },
    {
      "cell_type": "markdown",
      "source": [
        "## Exception Handling.\n",
        "\n",
        "Python exceptions are those unexpected errors that can occur during the execution of a program. They can be quite frustrating but, we have the powerful try and except statements to safeguard our code. When an exception is encountered, the program doesn't come crashing down, instead, it gracefully handles the exception and continues its execution.\n",
        "\n",
        "With the try and except statements, we can enclose the risky lines of code that might raise exceptions within the try block. If an exception occurs, instead of abruptly terminating the program, the flow of execution is diverted to the except block, which handles the exception and carries on. The try-except statement can also be accompanied by an else clause, which is executed if no exceptions are raised. To ensure that certain code always gets executed, regardless of whether an exception occurs or not, we have the finally clause.\n"
      ],
      "metadata": {
        "id": "Oe0h3QT4CowL"
      }
    },
    {
      "cell_type": "code",
      "source": [
        "x = 5\n",
        "y=0\n",
        "result = x/y\n",
        "print(result)"
      ],
      "metadata": {
        "colab": {
          "base_uri": "https://localhost:8080/",
          "height": 195
        },
        "id": "QAZVJU96QmBw",
        "outputId": "34273c25-2a3c-4283-8c92-f4afbbf7716d"
      },
      "execution_count": null,
      "outputs": [
        {
          "output_type": "error",
          "ename": "ZeroDivisionError",
          "evalue": "division by zero",
          "traceback": [
            "\u001b[0;31m---------------------------------------------------------------------------\u001b[0m",
            "\u001b[0;31mZeroDivisionError\u001b[0m                         Traceback (most recent call last)",
            "\u001b[0;32m<ipython-input-14-dd3642636d76>\u001b[0m in \u001b[0;36m<cell line: 3>\u001b[0;34m()\u001b[0m\n\u001b[1;32m      1\u001b[0m \u001b[0mx\u001b[0m \u001b[0;34m=\u001b[0m \u001b[0;36m5\u001b[0m\u001b[0;34m\u001b[0m\u001b[0;34m\u001b[0m\u001b[0m\n\u001b[1;32m      2\u001b[0m \u001b[0my\u001b[0m\u001b[0;34m=\u001b[0m\u001b[0;36m0\u001b[0m\u001b[0;34m\u001b[0m\u001b[0;34m\u001b[0m\u001b[0m\n\u001b[0;32m----> 3\u001b[0;31m \u001b[0mresult\u001b[0m \u001b[0;34m=\u001b[0m \u001b[0mx\u001b[0m\u001b[0;34m/\u001b[0m\u001b[0my\u001b[0m\u001b[0;34m\u001b[0m\u001b[0;34m\u001b[0m\u001b[0m\n\u001b[0m\u001b[1;32m      4\u001b[0m \u001b[0mprint\u001b[0m\u001b[0;34m(\u001b[0m\u001b[0mresult\u001b[0m\u001b[0;34m)\u001b[0m\u001b[0;34m\u001b[0m\u001b[0;34m\u001b[0m\u001b[0m\n",
            "\u001b[0;31mZeroDivisionError\u001b[0m: division by zero"
          ]
        }
      ]
    },
    {
      "cell_type": "code",
      "source": [
        "try :\n",
        "  x = 5\n",
        "  y=1\n",
        "  print(\"Mere dost\")\n",
        "  result = x/y\n",
        "  print(result)\n",
        "except :\n",
        "  print(\"Some error happened\")\n",
        "\n",
        "\n"
      ],
      "metadata": {
        "colab": {
          "base_uri": "https://localhost:8080/"
        },
        "id": "5iprSpqM1ERX",
        "outputId": "8209923d-3455-474a-b4a0-3ca1688c0276"
      },
      "execution_count": null,
      "outputs": [
        {
          "output_type": "stream",
          "name": "stdout",
          "text": [
            "Mere dost\n",
            "5.0\n"
          ]
        }
      ]
    },
    {
      "cell_type": "code",
      "source": [
        "#Catching the exception type\n",
        "import sys\n",
        "try :\n",
        "  x = 5\n",
        "  y=0\n",
        "  result = x/y\n",
        "  print(\"Exception ke baad ki dosti\")\n",
        "  print(result)\n",
        "except :\n",
        "  exc_type, exc_value, exc_traceback = sys.exc_info()\n",
        "  print(\"Some error happened\" , exc_type)\n",
        "  print(exc_value)\n",
        "  print(exc_traceback)\n",
        "\n",
        "\n",
        "\n"
      ],
      "metadata": {
        "colab": {
          "base_uri": "https://localhost:8080/"
        },
        "id": "ieFBcZBg17VK",
        "outputId": "2b2d3323-a6af-4504-bf88-17e6ac48c754"
      },
      "execution_count": null,
      "outputs": [
        {
          "output_type": "stream",
          "name": "stdout",
          "text": [
            "Some error happened <class 'ZeroDivisionError'>\n",
            "division by zero\n",
            "<traceback object at 0x7de980cbe0c0>\n"
          ]
        }
      ]
    },
    {
      "cell_type": "code",
      "source": [
        "#If exception doesn't happen\n",
        "#Catching the exception type\n",
        "import sys\n",
        "try :\n",
        "  x = 5\n",
        "  y=1\n",
        "  result = x/y\n",
        "  print(result)\n",
        "except :\n",
        "  exc_type, exc_value, exc_traceback = sys.exc_info()\n",
        "  print(\"Some error happened\" , exc_type)"
      ],
      "metadata": {
        "colab": {
          "base_uri": "https://localhost:8080/"
        },
        "id": "v7U8-3lg2IPc",
        "outputId": "d47e7ad5-f6e9-4620-ce61-8eb888892025"
      },
      "execution_count": null,
      "outputs": [
        {
          "output_type": "stream",
          "name": "stdout",
          "text": [
            "5.0\n"
          ]
        }
      ]
    },
    {
      "cell_type": "code",
      "source": [
        "#We can use else as well\n",
        "import sys\n",
        "try :\n",
        "  x = 5\n",
        "  y=1\n",
        "  result = x/y\n",
        "\n",
        "except :\n",
        "  exc_type, exc_value, exc_traceback = sys.exc_info()\n",
        "  print(\"Some error happened\" , exc_type)\n",
        "else :\n",
        "  print(result)\n"
      ],
      "metadata": {
        "colab": {
          "base_uri": "https://localhost:8080/"
        },
        "id": "7YuivNft2L0_",
        "outputId": "6f9e33c1-601c-4730-de75-b3d837c82bb1"
      },
      "execution_count": null,
      "outputs": [
        {
          "output_type": "stream",
          "name": "stdout",
          "text": [
            "5.0\n"
          ]
        }
      ]
    },
    {
      "cell_type": "code",
      "source": [
        "#We can use else as well\n",
        "import sys\n",
        "try :\n",
        "  x = 5\n",
        "  y=1\n",
        "  result = x/y\n",
        "\n",
        "except :\n",
        "  exc_type, exc_value, exc_traceback = sys.exc_info()\n",
        "  print(\"Some error happened\" , exc_type)\n",
        "else :\n",
        "  print(result)\n",
        "finally :\n",
        "  print(\"I will be always executed\")"
      ],
      "metadata": {
        "colab": {
          "base_uri": "https://localhost:8080/"
        },
        "id": "GvCiaWgB2TqU",
        "outputId": "b2c087ad-aac5-4c71-e806-c989ea33beed"
      },
      "execution_count": null,
      "outputs": [
        {
          "output_type": "stream",
          "name": "stdout",
          "text": [
            "5.0\n",
            "I will be always executed\n"
          ]
        }
      ]
    },
    {
      "cell_type": "code",
      "source": [
        "try:\n",
        "    x = int(input(\"Enter a number: \"))\n",
        "    result = 10 / x\n",
        "except ValueError:\n",
        "    print(\"Invalid input. Please enter a valid number.\")\n",
        "except ZeroDivisionError:\n",
        "    print(\"You cannot divide by zero.\")\n",
        "else:\n",
        "    print(\"The result is:\", result)\n",
        "finally:\n",
        "    print(\"Execution finished.\")"
      ],
      "metadata": {
        "colab": {
          "base_uri": "https://localhost:8080/"
        },
        "id": "fv6EuEJSCv_N",
        "outputId": "9274f8e4-2582-47f6-f7db-14262efdda8a"
      },
      "execution_count": null,
      "outputs": [
        {
          "output_type": "stream",
          "name": "stdout",
          "text": [
            "Enter a number: 0\n",
            "You cannot divide by zero.\n",
            "Execution finished.\n"
          ]
        }
      ]
    },
    {
      "cell_type": "markdown",
      "source": [
        "## Common Types of Exceptions in Python.\n",
        "\n",
        "Let's take a look at some of the most common types of exceptions in Python:\n",
        "\n",
        "1. SyntaxError: This exception is raised when the interpreter encounters a syntax error in the code. It could be due to a misspelled keyword, a missing colon, or an unbalanced parenthesis.\n",
        "\n",
        "2. TypeError: This exception occurs when an operation or function is applied to an object of the wrong type. For example, if you try to add a string to an integer, Python will raise a TypeError.\n",
        "\n",
        "3. NameError: This exception is raised when you try to access a variable or function that hasn't been defined yet.\n",
        "\n",
        "4. ZeroDivisionError: This exception occurs when you try to divide a number by zero.\n",
        "\n",
        "These are just a few examples of the types of exceptions you might encounter while coding in Python. Exception handling provides benefits like easy error detection and debugging, maintaining code readability, and focusing on program logic. It helps in writing cleaner and more maintainable code.\n"
      ],
      "metadata": {
        "id": "rMnzfCsFC1tx"
      }
    }
  ]
}