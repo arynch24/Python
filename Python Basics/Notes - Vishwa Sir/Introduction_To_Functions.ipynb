{
  "nbformat": 4,
  "nbformat_minor": 0,
  "metadata": {
    "colab": {
      "provenance": []
    },
    "kernelspec": {
      "name": "python3",
      "display_name": "Python 3"
    },
    "language_info": {
      "name": "python"
    }
  },
  "cells": [
    {
      "cell_type": "markdown",
      "source": [
        "# Introduction To Functions\n",
        "\n",
        "Python functions are a powerful tool in the world of programming. They allow us to group a set of instructions into a reusable block of code. Functions help organize our code and make it more readable. In this lecture, let’s explowre the power of functions in Python.\n",
        "\n",
        "Python functions are user-defined blocks of code that are designed to perform specific tasks. They allow us to break down our programs into smaller, reusable pieces of code, making our code more organized and easier to maintain.\n"
      ],
      "metadata": {
        "id": "SHVUgfJC7IVe"
      }
    },
    {
      "cell_type": "markdown",
      "source": [
        "Why Use Functions?\n",
        "\n",
        "- Modularity: Functions break down complex programs into smaller, manageable parts, improving code organization and structure.\n",
        "- Reusability: Functions allow code to be reused, saving time and effort by avoiding code duplication.\n",
        "- Abstraction: Functions provide a high-level overview, hiding implementation details and making code more readable and understandable.\n",
        "- Decomposition: Functions help break down complex problems into smaller, more manageable tasks, simplifying the problem-solving process.\n",
        "- Code Maintenance: Functions make code easier to maintain and debug by isolating and focusing on specific parts of the program.\n"
      ],
      "metadata": {
        "id": "Q6WlVv7-7Ltp"
      }
    },
    {
      "cell_type": "markdown",
      "source": [
        "Types Of Functions.\n",
        "\n",
        "1. Built-in function: These are pre-defined functions that come with Python, such as print(), len(), input(), range(), and type(). They are readily available for use without requiring any additional code.\n",
        "\n",
        "2. User-defined function: These functions are created by the user to perform specific tasks. They provide a way to modularize code and promote reusability. User-defined functions are defined using the def keyword.\n"
      ],
      "metadata": {
        "id": "aiaXG5ti7RrP"
      }
    },
    {
      "cell_type": "markdown",
      "source": [
        "## Functions Syntax.\n",
        "\n",
        "```\n",
        "def function_name(parameters):\n",
        "    # Function body (code to be executed)\n",
        "    # ...\n",
        "    # Optional return statement\n",
        "    return value\n",
        "```\n",
        "\n",
        "Let's break down the different components:\n",
        "\n",
        "- def: Keyword used to define a function.\n",
        "- function_name: Name given to the function. It should follow Python naming conventions.\n",
        "- parameters: Optional input parameters that the function can accept. These are - placeholders for values passed into the function.\n",
        "- :: Colon to indicate the start of the function block.\n",
        "- Function body: Contains the code to be executed when the function is called. It is indented with consistent whitespace.\n",
        "- return: Optional statement used to return a value from the function. If not specified, the function returns None.\n",
        "\n"
      ],
      "metadata": {
        "id": "fLfprn_O7V2J"
      }
    },
    {
      "cell_type": "markdown",
      "source": [
        "## Defining and Calling Python Functions:\n",
        "\n",
        "To define a function in Python, we use the \"def\" keyword followed by the function name and parentheses. The function body is then indented and contains the code that will be executed when the function is called. Functions in Python are a powerful tool that helps us write cleaner and more efficient code.\n"
      ],
      "metadata": {
        "id": "C7kkjYBa7geS"
      }
    },
    {
      "cell_type": "code",
      "source": [
        "def function_name():\n",
        "\n",
        "    # Function body: Code that performs the desired task(s)\n",
        "    print('Hello')\n",
        "\n",
        "    # Optional return statement: Returns a value or multiple values\n",
        "\n",
        "# Outside the function: Code that is not part of the function"
      ],
      "metadata": {
        "id": "vLR94EjM7jBa"
      },
      "execution_count": null,
      "outputs": []
    },
    {
      "cell_type": "markdown",
      "source": [
        "Once the function is defined, you can call it by using the function name followed by parentheses.\n"
      ],
      "metadata": {
        "id": "Nk_lLxP97lkl"
      }
    },
    {
      "cell_type": "code",
      "source": [
        "def add(a,b):\n",
        "  return a+b\n",
        "\n",
        "add(5,6)"
      ],
      "metadata": {
        "id": "gQeyimCW91M_"
      },
      "execution_count": null,
      "outputs": []
    },
    {
      "cell_type": "code",
      "source": [
        "function_name()"
      ],
      "metadata": {
        "colab": {
          "base_uri": "https://localhost:8080/"
        },
        "id": "rl5RlsUJ7mCF",
        "outputId": "fe5510af-c766-445e-fecd-650244447d54"
      },
      "execution_count": null,
      "outputs": [
        {
          "output_type": "stream",
          "name": "stdout",
          "text": [
            "Hello\n"
          ]
        }
      ]
    },
    {
      "cell_type": "code",
      "source": [
        "print(function_name())"
      ],
      "metadata": {
        "colab": {
          "base_uri": "https://localhost:8080/"
        },
        "id": "cfRWXMkvZVMz",
        "outputId": "7453bae0-9bc3-4a87-821f-1f3412f1a2ab"
      },
      "execution_count": null,
      "outputs": [
        {
          "output_type": "stream",
          "name": "stdout",
          "text": [
            "Hello\n",
            "None\n"
          ]
        }
      ]
    },
    {
      "cell_type": "markdown",
      "source": [
        "## Scope of Variables in Functions.\n",
        "\n",
        "Variables defined inside a function are called local variables. These variables are only accessible within the function. Variables outside a function are called global variables. They can be accessed both inside and outside a function.\n"
      ],
      "metadata": {
        "id": "nFORZs8M7t5z"
      }
    },
    {
      "cell_type": "code",
      "source": [
        "x = 101  # global variable\n",
        "\n",
        "\n",
        "def example_func():\n",
        "    x = 202  # local variable\n",
        "    print(x) # Output: 202\n",
        "\n",
        "\n",
        "example_func()\n",
        "print(x) # Output: 101\n"
      ],
      "metadata": {
        "colab": {
          "base_uri": "https://localhost:8080/"
        },
        "id": "7Xeq69lj7xAb",
        "outputId": "88ff9be1-aa3a-48aa-8927-f70214d3e5bd"
      },
      "execution_count": null,
      "outputs": [
        {
          "output_type": "stream",
          "name": "stdout",
          "text": [
            "202\n",
            "101\n"
          ]
        }
      ]
    },
    {
      "cell_type": "code",
      "source": [
        "res = add1(5,6)\n",
        "print(res)\n",
        "\n",
        "def add1(a,b):\n",
        "  return a+b"
      ],
      "metadata": {
        "colab": {
          "base_uri": "https://localhost:8080/",
          "height": 213
        },
        "id": "e3zPApx--o3U",
        "outputId": "c8f39d42-2f23-4052-a4a8-7fca0fa79267"
      },
      "execution_count": null,
      "outputs": [
        {
          "output_type": "error",
          "ename": "NameError",
          "evalue": "name 'add1' is not defined",
          "traceback": [
            "\u001b[0;31m---------------------------------------------------------------------------\u001b[0m",
            "\u001b[0;31mNameError\u001b[0m                                 Traceback (most recent call last)",
            "\u001b[0;32m<ipython-input-13-b0814f73eee2>\u001b[0m in \u001b[0;36m<cell line: 1>\u001b[0;34m()\u001b[0m\n\u001b[0;32m----> 1\u001b[0;31m \u001b[0mres\u001b[0m \u001b[0;34m=\u001b[0m \u001b[0madd1\u001b[0m\u001b[0;34m(\u001b[0m\u001b[0;36m5\u001b[0m\u001b[0;34m,\u001b[0m\u001b[0;36m6\u001b[0m\u001b[0;34m)\u001b[0m\u001b[0;34m\u001b[0m\u001b[0;34m\u001b[0m\u001b[0m\n\u001b[0m\u001b[1;32m      2\u001b[0m \u001b[0mprint\u001b[0m\u001b[0;34m(\u001b[0m\u001b[0mres\u001b[0m\u001b[0;34m)\u001b[0m\u001b[0;34m\u001b[0m\u001b[0;34m\u001b[0m\u001b[0m\n\u001b[1;32m      3\u001b[0m \u001b[0;34m\u001b[0m\u001b[0m\n\u001b[1;32m      4\u001b[0m \u001b[0;32mdef\u001b[0m \u001b[0madd1\u001b[0m\u001b[0;34m(\u001b[0m\u001b[0ma\u001b[0m\u001b[0;34m,\u001b[0m\u001b[0mb\u001b[0m\u001b[0;34m)\u001b[0m\u001b[0;34m:\u001b[0m\u001b[0;34m\u001b[0m\u001b[0;34m\u001b[0m\u001b[0m\n\u001b[1;32m      5\u001b[0m   \u001b[0;32mreturn\u001b[0m \u001b[0ma\u001b[0m\u001b[0;34m+\u001b[0m\u001b[0mb\u001b[0m\u001b[0;34m\u001b[0m\u001b[0;34m\u001b[0m\u001b[0m\n",
            "\u001b[0;31mNameError\u001b[0m: name 'add1' is not defined"
          ]
        }
      ]
    },
    {
      "cell_type": "markdown",
      "source": [
        "## Functions With Parameters.\n",
        "\n",
        "We know that to create a function, you use the \"def\" keyword followed by the function name and parentheses.\n",
        "\n",
        "Inside the parentheses, you can specify any parameters that the function will accept.\n",
        "\n",
        "```\n",
        "def function_name(parameters):\n",
        "    \n",
        "    # Function body: Code that performs the desired task(s)\n",
        "    \n",
        "    # Optional return statement: Returns a value or multiple values\n",
        "    \n",
        "# Outside the function: Code that is not part of the function\n",
        "```\n",
        "\n",
        "\n",
        "If the function has parameters, you can pass in values for those parameters when calling the function. These values are called as arguments.\n",
        "\n",
        "Arguments can be of any data type, such as strings, numbers, lists, or dictionaries. Python doesn't require you to explicitly specify the data type of a parameter, making it a flexible and user-friendly language.\n",
        "\n",
        "```\n",
        "function_name(argument1, argument2, ...)\n",
        "```\n",
        "\n",
        "\n",
        "Functions can be called multiple times with different arguments, allowing you to reuse code and perform the same task with different inputs.\n",
        "\n"
      ],
      "metadata": {
        "id": "kCtY7_TN71Qk"
      }
    },
    {
      "cell_type": "code",
      "source": [
        "def greet(name):\n",
        "    print(\"Hello \" + name + \"!\")"
      ],
      "metadata": {
        "id": "UEpg92CV7-3O"
      },
      "execution_count": null,
      "outputs": []
    },
    {
      "cell_type": "code",
      "source": [
        "greet(\"Mithun\")\n",
        "greet(\"Sanjay\")"
      ],
      "metadata": {
        "colab": {
          "base_uri": "https://localhost:8080/"
        },
        "id": "xiMdM2IE8H49",
        "outputId": "130ab19e-338c-44a0-f277-7db4bcf00bdb"
      },
      "execution_count": null,
      "outputs": [
        {
          "output_type": "stream",
          "name": "stdout",
          "text": [
            "Hello Mithun!\n",
            "Hello Sanjay!\n"
          ]
        }
      ]
    },
    {
      "cell_type": "markdown",
      "source": [
        "## Types of Arguments:\n",
        "\n",
        "### Default argument.\n",
        "\n",
        "These are parameters in a function that have a default value assigned. If an argument is not provided for a default parameter, the default value is used.\n"
      ],
      "metadata": {
        "id": "dkSqGfE48YYo"
      }
    },
    {
      "cell_type": "code",
      "source": [
        "def greet(name, message=\"Hello\"):\n",
        "    print(message, name)\n",
        "\n",
        "greet(\"Vishwa\", \"Good Morning !\")\n",
        "\n",
        "\n",
        "greet(\"Mithun\")  # Uses the default value \"Hello\" for the message parameter\n",
        "# Output: Hello Mithun\n",
        "\n",
        "greet(\"Mithun\", \"Hii\")\n",
        "# Output: Hii Mithun"
      ],
      "metadata": {
        "colab": {
          "base_uri": "https://localhost:8080/"
        },
        "id": "_Ho0plrx8ckc",
        "outputId": "fa1ff20e-c10d-4bb9-ee11-2b3062e22ec3"
      },
      "execution_count": null,
      "outputs": [
        {
          "output_type": "stream",
          "name": "stdout",
          "text": [
            "Good Morning ! Vishwa\n",
            "Hello Mithun\n",
            "Hii Mithun\n"
          ]
        }
      ]
    },
    {
      "cell_type": "code",
      "source": [
        "def func(a,b,c,d):\n",
        "  print(a,b,c,d)\n",
        "\n",
        "func(5,11,12,9)"
      ],
      "metadata": {
        "colab": {
          "base_uri": "https://localhost:8080/"
        },
        "id": "PEOmHlvdAHVX",
        "outputId": "6a52676a-9649-4f2c-ba74-f7b58538cfb8"
      },
      "execution_count": null,
      "outputs": [
        {
          "output_type": "stream",
          "name": "stdout",
          "text": [
            "5 11 12 9\n"
          ]
        }
      ]
    },
    {
      "cell_type": "markdown",
      "source": [
        "### Keyword arguments (named arguments)\n",
        "\n",
        "These arguments are passed to a function using the name of the parameter they correspond to, followed by the = sign. The order of keyword arguments does not matter.\n"
      ],
      "metadata": {
        "id": "tD4Werw78esl"
      }
    },
    {
      "cell_type": "code",
      "source": [
        "def greet(name, age):\n",
        "    print(\"Hello\", name, \"you are\", age, \"years old.\")\n",
        "\n",
        "greet(\"Vishwa\",99)\n",
        "\n",
        "\n",
        "greet(name=\"Mithun\", age=21)  # Output: Hello Mithun you are 21 years old.\n",
        "\n",
        "# This will also work fine with:\n",
        "\n",
        "greet(age=21, name=\"Mithun\")  # Output: Hello Mithun you are 21 years old."
      ],
      "metadata": {
        "colab": {
          "base_uri": "https://localhost:8080/"
        },
        "id": "GCVcDIm78ht-",
        "outputId": "bd8aae7b-3c41-4f52-ea7f-cd93d14ff258"
      },
      "execution_count": null,
      "outputs": [
        {
          "output_type": "stream",
          "name": "stdout",
          "text": [
            "Hello Mithun you are 21 years old.\n",
            "Hello Mithun you are 21 years old.\n"
          ]
        }
      ]
    },
    {
      "cell_type": "markdown",
      "source": [
        "### Positional arguments.\n",
        "\n",
        "These are arguments passed to a function in the order specified by the function's parameter list. The values are assigned to the corresponding parameters based on their position.\n"
      ],
      "metadata": {
        "id": "hdpY7VPV8lSc"
      }
    },
    {
      "cell_type": "code",
      "source": [
        "def add_numbers(x, y):\n",
        "    sum = x + y\n",
        "    print(\"Sum:\", sum)\n",
        "\n",
        "add_numbers(5, 3)\n",
        "add_numbers(3,5)  # Positional arguments: 5 is assigned to x, 3 is assigned to y\n",
        "# Output: Sum: 8"
      ],
      "metadata": {
        "colab": {
          "base_uri": "https://localhost:8080/"
        },
        "id": "UuKCcbKo8ntt",
        "outputId": "cabe309a-9ba7-42ba-f7b4-45dab765ae1b"
      },
      "execution_count": null,
      "outputs": [
        {
          "output_type": "stream",
          "name": "stdout",
          "text": [
            "Sum: 8\n"
          ]
        }
      ]
    },
    {
      "cell_type": "markdown",
      "source": [
        "### Arbitrary arguments (variable-length arguments *args and **kwargs)\n",
        "\n",
        "Variable-length arguments in Python allow a function to accept a varying number of arguments.\n",
        "\n",
        "There are two types of variable-length arguments:\n",
        "\n",
        "1. non-keyword variable-length arguments (*args)\n",
        "2. keyword variable-length arguments (**kwargs).\n"
      ],
      "metadata": {
        "id": "D5544OOx8sZ2"
      }
    },
    {
      "cell_type": "markdown",
      "source": [
        "- Non-Keyword Variable-Length Arguments (*args):\n",
        "\n",
        "The *args syntax allows a function to accept any number of non-keyword arguments. Within the function, args becomes a tuple that holds all the passed arguments. You can access and process the individual arguments using indexing or iterating over args.\n"
      ],
      "metadata": {
        "id": "m86L_kpu8vhk"
      }
    },
    {
      "cell_type": "code",
      "source": [
        "def sum_numbers(*args):\n",
        "    print(args)\n",
        "    print(*args)\n",
        "    total = 0\n",
        "    for num in args:\n",
        "        total += num\n",
        "    return total\n",
        "\n",
        "\n",
        "result = sum_numbers(1, 2, 3, 4)\n",
        "print(result)  # Output: 10"
      ],
      "metadata": {
        "colab": {
          "base_uri": "https://localhost:8080/"
        },
        "id": "Ywj3zi_38zjw",
        "outputId": "64f26743-18cc-4f95-91ab-f43056c0178b"
      },
      "execution_count": null,
      "outputs": [
        {
          "output_type": "stream",
          "name": "stdout",
          "text": [
            "(1, 2, 3, 4)\n",
            "1 2 3 4\n",
            "10\n"
          ]
        }
      ]
    },
    {
      "cell_type": "code",
      "source": [
        "def f(c):\n",
        "  print(c)\n",
        "\n",
        "\n",
        "\n",
        "f((5,6,7))\n",
        "\n",
        "f(5,6)"
      ],
      "metadata": {
        "colab": {
          "base_uri": "https://localhost:8080/",
          "height": 213
        },
        "id": "DpOAuyHLbJAq",
        "outputId": "d3eb293b-a4ca-48c2-c227-a6c859162258"
      },
      "execution_count": null,
      "outputs": [
        {
          "output_type": "error",
          "ename": "TypeError",
          "evalue": "f() takes 3 positional arguments but 6 were given",
          "traceback": [
            "\u001b[0;31m---------------------------------------------------------------------------\u001b[0m",
            "\u001b[0;31mTypeError\u001b[0m                                 Traceback (most recent call last)",
            "\u001b[0;32m<ipython-input-25-3ca9a8cdd659>\u001b[0m in \u001b[0;36m<cell line: 4>\u001b[0;34m()\u001b[0m\n\u001b[1;32m      2\u001b[0m   \u001b[0mprint\u001b[0m\u001b[0;34m(\u001b[0m\u001b[0ma\u001b[0m\u001b[0;34m,\u001b[0m\u001b[0mb\u001b[0m\u001b[0;34m,\u001b[0m\u001b[0mc\u001b[0m\u001b[0;34m)\u001b[0m\u001b[0;34m\u001b[0m\u001b[0;34m\u001b[0m\u001b[0m\n\u001b[1;32m      3\u001b[0m \u001b[0;34m\u001b[0m\u001b[0m\n\u001b[0;32m----> 4\u001b[0;31m \u001b[0mf\u001b[0m\u001b[0;34m(\u001b[0m\u001b[0;36m5\u001b[0m\u001b[0;34m,\u001b[0m\u001b[0;36m6\u001b[0m\u001b[0;34m,\u001b[0m\u001b[0;36m7\u001b[0m\u001b[0;34m,\u001b[0m\u001b[0;36m8\u001b[0m\u001b[0;34m,\u001b[0m\u001b[0;36m9\u001b[0m\u001b[0;34m,\u001b[0m\u001b[0;36m10\u001b[0m\u001b[0;34m)\u001b[0m\u001b[0;34m\u001b[0m\u001b[0;34m\u001b[0m\u001b[0m\n\u001b[0m\u001b[1;32m      5\u001b[0m \u001b[0;34m\u001b[0m\u001b[0m\n\u001b[1;32m      6\u001b[0m \u001b[0mf\u001b[0m\u001b[0;34m(\u001b[0m\u001b[0;36m5\u001b[0m\u001b[0;34m,\u001b[0m\u001b[0;36m6\u001b[0m\u001b[0;34m)\u001b[0m\u001b[0;34m\u001b[0m\u001b[0;34m\u001b[0m\u001b[0m\n",
            "\u001b[0;31mTypeError\u001b[0m: f() takes 3 positional arguments but 6 were given"
          ]
        }
      ]
    },
    {
      "cell_type": "code",
      "source": [
        "def f1(*args,a=5,b=6):\n",
        "  print(args, a, b)\n",
        "\n",
        "f1(1,2,3,4,5,6)\n"
      ],
      "metadata": {
        "colab": {
          "base_uri": "https://localhost:8080/"
        },
        "id": "SdaQ6bCEESZO",
        "outputId": "15de0000-034f-4c1f-a7aa-7d78e42f131b"
      },
      "execution_count": null,
      "outputs": [
        {
          "output_type": "stream",
          "name": "stdout",
          "text": [
            "(1, 2, 3, 4, 5, 6) 5 6\n"
          ]
        }
      ]
    },
    {
      "cell_type": "code",
      "source": [
        "def f(*args,a,b,):\n",
        "  print(a,b,args)\n",
        "  print(*args)\n",
        "\n",
        "\n",
        "#f(5,6,7,8,9,10)\n",
        "result = f(6,7,7,8,a=9,b=10)\n",
        "print(result)"
      ],
      "metadata": {
        "colab": {
          "base_uri": "https://localhost:8080/"
        },
        "id": "Z4t9RmRhbX2_",
        "outputId": "7b820a93-daa2-47f4-f045-833535ee8c93"
      },
      "execution_count": null,
      "outputs": [
        {
          "output_type": "stream",
          "name": "stdout",
          "text": [
            "9 10 (6, 7, 7, 8)\n",
            "6 7 7 8\n",
            "None\n"
          ]
        }
      ]
    },
    {
      "cell_type": "markdown",
      "source": [
        "**In the above code:**\n",
        "\n",
        "1. def sum_numbers(*args):: This line defines a function called sum_numbers. The *args syntax in the function parameter list allows you to pass a variable number of arguments to the function. These arguments will be collected into a tuple called args inside the function.\n",
        "\n",
        "2. total = 0: This line initializes a variable total to 0. This variable will be used to store the sum of all the numbers passed as arguments to the function.\n",
        "\n",
        "3. for num in args:: This line starts a for loop that iterates over each element in the args tuple, which contains all the arguments passed to the function.\n",
        "\n",
        "4. total += num: Inside the loop, each number (num) in the args tuple is added to the total variable. This accumulates the sum of all the numbers passed as arguments.\n",
        "\n",
        "5. return total: After the loop completes, the function returns the total variable, which now holds the sum of all the numbers.\n",
        "\n",
        "6. result = sum_numbers(1, 2, 3, 4): This line calls the sum_numbers to function with four arguments: 1, 2, 3, and 4. The function calculates the sum of these numbers and returns it, which is assigned to the result variable.\n",
        "\n",
        "7. print(result): Finally, this line prints the value of the result variable, which contains the sum of the numbers passed to the sum_numbers function.\n",
        "\n",
        "8. The output of this code is 10, which is the result of adding 1 + 2 + 3 + 4, as calculated by the sum_numbers function.\n"
      ],
      "metadata": {
        "id": "tUKThtkG82vK"
      }
    },
    {
      "cell_type": "markdown",
      "source": [
        "- Keyword Variable-Length Arguments (**kwargs):\n",
        "\n",
        "The **kwargs syntax allows a function to accept any number of keyword arguments. Within the function, kwargs becomes a dictionary that holds the passed keyword arguments. You can access and process the individual arguments using dictionary operations.\n"
      ],
      "metadata": {
        "id": "EWs2j2Op89RT"
      }
    },
    {
      "cell_type": "code",
      "source": [
        "def display_info(**kwargs):\n",
        "  print(kwargs)\n",
        "  print(**kwargs)\n",
        "  for key, value in kwargs.items():\n",
        "      print(key + \": \" + value)\n",
        "\n",
        "display_info(name=\"Mithun\", age=\"21\", city=\"Bengaluru\", hobby=\"Cricket\")\n",
        "# Output:\n",
        "# name: Mithun\n",
        "# age: 21\n",
        "# city: Bengaluru"
      ],
      "metadata": {
        "colab": {
          "base_uri": "https://localhost:8080/",
          "height": 354
        },
        "id": "JR-9nbDt9B50",
        "outputId": "b5d93523-079d-4f30-a0e2-9f41da5271ca"
      },
      "execution_count": null,
      "outputs": [
        {
          "output_type": "stream",
          "name": "stdout",
          "text": [
            "{'name': 'Mithun', 'age': '21', 'city': 'Bengaluru', 'hobby': 'Cricket'}\n"
          ]
        },
        {
          "output_type": "error",
          "ename": "TypeError",
          "evalue": "'name' is an invalid keyword argument for print()",
          "traceback": [
            "\u001b[0;31m---------------------------------------------------------------------------\u001b[0m",
            "\u001b[0;31mTypeError\u001b[0m                                 Traceback (most recent call last)",
            "\u001b[0;32m<ipython-input-28-d1b32ba4ce7a>\u001b[0m in \u001b[0;36m<cell line: 7>\u001b[0;34m()\u001b[0m\n\u001b[1;32m      5\u001b[0m       \u001b[0mprint\u001b[0m\u001b[0;34m(\u001b[0m\u001b[0mkey\u001b[0m \u001b[0;34m+\u001b[0m \u001b[0;34m\": \"\u001b[0m \u001b[0;34m+\u001b[0m \u001b[0mvalue\u001b[0m\u001b[0;34m)\u001b[0m\u001b[0;34m\u001b[0m\u001b[0;34m\u001b[0m\u001b[0m\n\u001b[1;32m      6\u001b[0m \u001b[0;34m\u001b[0m\u001b[0m\n\u001b[0;32m----> 7\u001b[0;31m \u001b[0mdisplay_info\u001b[0m\u001b[0;34m(\u001b[0m\u001b[0mname\u001b[0m\u001b[0;34m=\u001b[0m\u001b[0;34m\"Mithun\"\u001b[0m\u001b[0;34m,\u001b[0m \u001b[0mage\u001b[0m\u001b[0;34m=\u001b[0m\u001b[0;34m\"21\"\u001b[0m\u001b[0;34m,\u001b[0m \u001b[0mcity\u001b[0m\u001b[0;34m=\u001b[0m\u001b[0;34m\"Bengaluru\"\u001b[0m\u001b[0;34m,\u001b[0m \u001b[0mhobby\u001b[0m\u001b[0;34m=\u001b[0m\u001b[0;34m\"Cricket\"\u001b[0m\u001b[0;34m)\u001b[0m\u001b[0;34m\u001b[0m\u001b[0;34m\u001b[0m\u001b[0m\n\u001b[0m\u001b[1;32m      8\u001b[0m \u001b[0;31m# Output:\u001b[0m\u001b[0;34m\u001b[0m\u001b[0;34m\u001b[0m\u001b[0m\n\u001b[1;32m      9\u001b[0m \u001b[0;31m# name: Mithun\u001b[0m\u001b[0;34m\u001b[0m\u001b[0;34m\u001b[0m\u001b[0m\n",
            "\u001b[0;32m<ipython-input-28-d1b32ba4ce7a>\u001b[0m in \u001b[0;36mdisplay_info\u001b[0;34m(**kwargs)\u001b[0m\n\u001b[1;32m      1\u001b[0m \u001b[0;32mdef\u001b[0m \u001b[0mdisplay_info\u001b[0m\u001b[0;34m(\u001b[0m\u001b[0;34m**\u001b[0m\u001b[0mkwargs\u001b[0m\u001b[0;34m)\u001b[0m\u001b[0;34m:\u001b[0m\u001b[0;34m\u001b[0m\u001b[0;34m\u001b[0m\u001b[0m\n\u001b[1;32m      2\u001b[0m   \u001b[0mprint\u001b[0m\u001b[0;34m(\u001b[0m\u001b[0mkwargs\u001b[0m\u001b[0;34m)\u001b[0m\u001b[0;34m\u001b[0m\u001b[0;34m\u001b[0m\u001b[0m\n\u001b[0;32m----> 3\u001b[0;31m   \u001b[0mprint\u001b[0m\u001b[0;34m(\u001b[0m\u001b[0;34m**\u001b[0m\u001b[0mkwargs\u001b[0m\u001b[0;34m)\u001b[0m\u001b[0;34m\u001b[0m\u001b[0;34m\u001b[0m\u001b[0m\n\u001b[0m\u001b[1;32m      4\u001b[0m   \u001b[0;32mfor\u001b[0m \u001b[0mkey\u001b[0m\u001b[0;34m,\u001b[0m \u001b[0mvalue\u001b[0m \u001b[0;32min\u001b[0m \u001b[0mkwargs\u001b[0m\u001b[0;34m.\u001b[0m\u001b[0mitems\u001b[0m\u001b[0;34m(\u001b[0m\u001b[0;34m)\u001b[0m\u001b[0;34m:\u001b[0m\u001b[0;34m\u001b[0m\u001b[0;34m\u001b[0m\u001b[0m\n\u001b[1;32m      5\u001b[0m       \u001b[0mprint\u001b[0m\u001b[0;34m(\u001b[0m\u001b[0mkey\u001b[0m \u001b[0;34m+\u001b[0m \u001b[0;34m\": \"\u001b[0m \u001b[0;34m+\u001b[0m \u001b[0mvalue\u001b[0m\u001b[0;34m)\u001b[0m\u001b[0;34m\u001b[0m\u001b[0;34m\u001b[0m\u001b[0m\n",
            "\u001b[0;31mTypeError\u001b[0m: 'name' is an invalid keyword argument for print()"
          ]
        }
      ]
    },
    {
      "cell_type": "code",
      "source": [
        "def func(a,b,*args,**kwargs):\n",
        "  print(a,b,args,kwargs)\n",
        "\n",
        "func(5,6,7,8,9,10,name=\"Vishwa\",age=99)"
      ],
      "metadata": {
        "colab": {
          "base_uri": "https://localhost:8080/"
        },
        "id": "TDFCf4HLxFIA",
        "outputId": "31a68251-5d6a-4f07-e91e-997e7290f9ac"
      },
      "execution_count": null,
      "outputs": [
        {
          "output_type": "stream",
          "name": "stdout",
          "text": [
            "5 6 (7, 8, 9, 10) {'name': 'Vishwa', 'age': 99}\n"
          ]
        }
      ]
    },
    {
      "cell_type": "code",
      "source": [
        "def func1(**kwargs ,a,b):\n",
        "  print(kwargs,a,b)\n",
        "\n",
        "func1(name=\"Vishwa\", age=99, 7,9)"
      ],
      "metadata": {
        "colab": {
          "base_uri": "https://localhost:8080/",
          "height": 107
        },
        "id": "IWURMcTMxWd2",
        "outputId": "e0ac59dc-db7b-46ac-da39-e4d85f720382"
      },
      "execution_count": null,
      "outputs": [
        {
          "output_type": "error",
          "ename": "SyntaxError",
          "evalue": "invalid syntax (<ipython-input-8-4ea45f09ece8>, line 1)",
          "traceback": [
            "\u001b[0;36m  File \u001b[0;32m\"<ipython-input-8-4ea45f09ece8>\"\u001b[0;36m, line \u001b[0;32m1\u001b[0m\n\u001b[0;31m    def func1(**kwargs ,a,b):\u001b[0m\n\u001b[0m                        ^\u001b[0m\n\u001b[0;31mSyntaxError\u001b[0m\u001b[0;31m:\u001b[0m invalid syntax\n"
          ]
        }
      ]
    },
    {
      "cell_type": "code",
      "source": [
        "def func1(a,b,**kwargs):\n",
        "  print(kwargs,a,b)\n",
        "func1(7,9, name=\"Vishwa\")"
      ],
      "metadata": {
        "colab": {
          "base_uri": "https://localhost:8080/"
        },
        "id": "tKLsPw7KyDmE",
        "outputId": "10fd43b3-ec07-477e-dbd6-68bb11f132a8"
      },
      "execution_count": null,
      "outputs": [
        {
          "output_type": "stream",
          "name": "stdout",
          "text": [
            "{'name': 'Vishwa'} 7 9\n"
          ]
        }
      ]
    },
    {
      "cell_type": "markdown",
      "source": [
        "**Here's an explanation of the code snippet:**\n",
        "\n",
        "1. def display_info(**kwargs):: This line defines a function called display_info. The **kwargs syntax in the function parameter list allows you to pass a variable number of keyword arguments to the function. These keyword arguments are collected into a dictionary called kwargs inside the function, where the keys are the argument names and the values are the corresponding argument values.\n",
        "\n",
        "2. for key, value in kwargs.items():: This line starts a for loop that iterates over each key-value pair in the kwargs dictionary. In this loop, the key represents the argument name, and the value represents the argument's value.\n",
        "\n",
        "3. print(key + \": \" + value): Inside the loop, the code prints each key-value pair in a specific format, where the key and value are concatenated together with a colon and space in between.\n",
        "\n",
        "4. display_info(name=\"Mithun\", age=\"21\", city=\"Bengaluru\"): This line calls the display_info function with three keyword arguments: name, age, and city, each with a corresponding value. These keyword arguments are passed in the form of key-value pairs.\n"
      ],
      "metadata": {
        "id": "Z-i2Oq_G9F3M"
      }
    },
    {
      "cell_type": "markdown",
      "source": [
        "## Return Type.\n",
        "\n",
        "The return type of a function refers to the type of value that the function returns when it is executed. The return type can be explicitly specified using type annotations or implicitly determined based on the value returned by the function.\n"
      ],
      "metadata": {
        "id": "lRA6popx9L1C"
      }
    },
    {
      "cell_type": "code",
      "source": [
        "def add_numbers(a: int, b: int) -> int:\n",
        "    return a + b\n",
        "\n",
        "print(add_numbers(2, 3))  # Output: 5\n",
        "#print(add_numbers('2', 3))  # Output: TypeError."
      ],
      "metadata": {
        "colab": {
          "base_uri": "https://localhost:8080/"
        },
        "id": "gwm5G9ly9Oo7",
        "outputId": "9fb5088b-1153-4abc-d0ee-24847f582dc0"
      },
      "execution_count": null,
      "outputs": [
        {
          "output_type": "stream",
          "name": "stdout",
          "text": [
            "5\n"
          ]
        }
      ]
    },
    {
      "cell_type": "markdown",
      "source": [
        "In this example, the function add_numbers takes two parameters a and b, both of type int, and it explicitly specifies the return type as an int using the -> syntax. The function performs the addition operation and returns the result, which is of type int."
      ],
      "metadata": {
        "id": "DbV-p7mi9Uav"
      }
    },
    {
      "cell_type": "code",
      "source": [
        "def is_even(n):\n",
        "    if n % 2 == 0:\n",
        "        return True\n",
        "    else:\n",
        "        return False\n",
        "\n",
        "print(is_even(20))  # Output: True"
      ],
      "metadata": {
        "colab": {
          "base_uri": "https://localhost:8080/"
        },
        "id": "ih4hs_vw9W1p",
        "outputId": "da051d6d-87b9-4288-eed3-57bc22b1bcda"
      },
      "execution_count": null,
      "outputs": [
        {
          "output_type": "stream",
          "name": "stdout",
          "text": [
            "True\n"
          ]
        }
      ]
    },
    {
      "cell_type": "markdown",
      "source": [
        "In this case, the function is_even does not have an explicitly specified return type. However, based on the True and False values returned, Python infers that the return type is bool.\n",
        "\n",
        "Note: It's important to note that in Python, a function can also return None if there is no explicit return statement, or if the return statement does not provide a value.\n"
      ],
      "metadata": {
        "id": "LkCqrycU9cg4"
      }
    },
    {
      "cell_type": "markdown",
      "source": [
        "## Nested functions.\n",
        "\n",
        "Nested functions in Python refer to defining a function inside another function. The inner function has access to the scope of the outer function, including its variables, parameters, and other nested functions.\n",
        "\n",
        "Closures\n"
      ],
      "metadata": {
        "id": "8dpEhkyz9eiQ"
      }
    },
    {
      "cell_type": "code",
      "source": [
        "def my_fn():\n",
        "  name = \"Vishwa\"\n",
        "  print(name)\n",
        "\n",
        "my_fn()\n",
        "print(name)"
      ],
      "metadata": {
        "colab": {
          "base_uri": "https://localhost:8080/",
          "height": 195
        },
        "id": "ja6onwjpIBER",
        "outputId": "2ee4b7e5-cafc-4489-ed21-d04d7fd074cc"
      },
      "execution_count": null,
      "outputs": [
        {
          "output_type": "stream",
          "name": "stdout",
          "text": [
            "Vishwa\n"
          ]
        },
        {
          "output_type": "error",
          "ename": "NameError",
          "evalue": "name 'name' is not defined",
          "traceback": [
            "\u001b[0;31m---------------------------------------------------------------------------\u001b[0m",
            "\u001b[0;31mNameError\u001b[0m                                 Traceback (most recent call last)",
            "\u001b[0;32m<ipython-input-31-e888bf3afea8>\u001b[0m in \u001b[0;36m<cell line: 6>\u001b[0;34m()\u001b[0m\n\u001b[1;32m      4\u001b[0m \u001b[0;34m\u001b[0m\u001b[0m\n\u001b[1;32m      5\u001b[0m \u001b[0mmy_fn\u001b[0m\u001b[0;34m(\u001b[0m\u001b[0;34m)\u001b[0m\u001b[0;34m\u001b[0m\u001b[0;34m\u001b[0m\u001b[0m\n\u001b[0;32m----> 6\u001b[0;31m \u001b[0mprint\u001b[0m\u001b[0;34m(\u001b[0m\u001b[0mname\u001b[0m\u001b[0;34m)\u001b[0m\u001b[0;34m\u001b[0m\u001b[0;34m\u001b[0m\u001b[0m\n\u001b[0m",
            "\u001b[0;31mNameError\u001b[0m: name 'name' is not defined"
          ]
        }
      ]
    },
    {
      "cell_type": "code",
      "source": [
        "def outer_function():\n",
        "    x = 1  # Variable in the outer function\n",
        "\n",
        "    def inner_function():\n",
        "        y = 2  # Variable in the inner function\n",
        "        result = x + y\n",
        "        return result\n",
        "\n",
        "    return inner_function\n",
        "\n",
        "\n",
        "inner = outer_function() #return a function\n",
        "print(inner())  # Output: 3"
      ],
      "metadata": {
        "colab": {
          "base_uri": "https://localhost:8080/"
        },
        "id": "aM65PyNL9fzt",
        "outputId": "ea0163b1-126d-47b2-f877-4ceaec5f4ac3"
      },
      "execution_count": null,
      "outputs": [
        {
          "output_type": "stream",
          "name": "stdout",
          "text": [
            "101\n",
            "3\n"
          ]
        }
      ]
    },
    {
      "cell_type": "markdown",
      "source": [
        "In this example, we have an outer function called outer_function() that defines a variable x with a value of 1. Inside the outer function, there is an inner function called inner_function(). The inner function defines a variable y with a value of 2 and performs the addition of x and y. The result is returned from the inner function. Now it is important to note why the inner_function() got called. Well, this is because the outer_function's return statement calls the inner_function() i.e. return inner_function().\n",
        "\n",
        "Nested functions are like little helpers inside bigger tasks. They keep things neat and organized by doing smaller jobs within a larger job. This helps make code easier to read and understand. They also let you hide some secrets (data) so that only the big task and its helpers can see them. Plus, these little helpers can be used over and over again, saving you time and effort. So, nested functions make your code cleaner, more reusable, and easier to work with.\n"
      ],
      "metadata": {
        "id": "DB4oHbK59iJ3"
      }
    }
  ]
}