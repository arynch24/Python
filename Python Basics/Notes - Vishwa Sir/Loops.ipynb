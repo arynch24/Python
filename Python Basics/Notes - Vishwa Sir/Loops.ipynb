{
  "nbformat": 4,
  "nbformat_minor": 0,
  "metadata": {
    "colab": {
      "provenance": []
    },
    "kernelspec": {
      "name": "python3",
      "display_name": "Python 3"
    },
    "language_info": {
      "name": "python"
    }
  },
  "cells": [
    {
      "cell_type": "markdown",
      "source": [
        "# Python Loops\n",
        "\n",
        "Python loops are a way to repeat a block of code multiple times based on a condition. They allow you to automate repetitive tasks and save yourself from the boredom of typing the same code over and over again. With Python loops, you can iterate through lists, perform calculations, and even control the flow of your program.\n",
        "\n",
        "Python Loops are essential for executing repetitive tasks with ease. They allow you to iterate over a sequence of elements, such as a list or a string, and perform a set of actions. Loops help you save a ton of time by automating tasks that would otherwise require repetitive coding. They are like your trustworthy, time-saving sidekicks; you just need to know how to use them effectively.\n"
      ],
      "metadata": {
        "id": "HxawcBbi3aeX"
      }
    },
    {
      "cell_type": "markdown",
      "source": [
        "## Types of Loops\n",
        "\n",
        "There are two types of loops in Python:\n",
        "1. For Loops.\n",
        "2. While Loops.\n",
        "\n",
        "For Loops are used when you know the number of times you want to iterate, while While Loops are used when you want to repeat a block of code as long as a certain condition is met."
      ],
      "metadata": {
        "id": "iBTZc5bn3foK"
      }
    },
    {
      "cell_type": "markdown",
      "source": [
        "## For Loops.\n",
        "\n",
        "In Python, a For Loop allows you to iterate over a sequence, such as a list, string, or range of numbers. It's like having a personal assistant who goes through each item in your sequence, one by one, without questioning it.\n",
        "\n",
        "Syntax:\n",
        "\n",
        "```\n",
        "for item in sequence:\n",
        "    # Code block to execute\n",
        "```\n"
      ],
      "metadata": {
        "id": "eZpQyEJI3pdT"
      }
    },
    {
      "cell_type": "markdown",
      "source": [
        "## Example:\n",
        "\n",
        "Imagine you have a shopping list of fruits, and you want to print each item on the list. With a For Loop, you can effortlessly go through the list, pick out each fruit, and display it."
      ],
      "metadata": {
        "id": "kYsQDU183-1G"
      }
    },
    {
      "cell_type": "code",
      "source": [
        "# Define a list of fruits\n",
        "\n",
        "fruits = [\"apple\", \"banana\", \"cherry\", \"date\", \"elderberry\"]\n",
        "\n",
        "# Initialization: The loop variable \"fruit\" is initialized with the first element of the array.\n",
        "# In this case, it starts with \"apple\".\n",
        "\n",
        "for fruit in fruits:\n",
        "    # Iteration: The loop iterates through each element of the array, one at a time.\n",
        "\n",
        "    # Execution: Inside the loop, we can perform actions on the current element, which is stored in the loop variable \"fruit.\"\n",
        "\n",
        "    print(\"I like \" + fruit)\n",
        "\n",
        "# Termination: The loop continues to iterate until it reaches the last element of the array (\"elderberry\").\n",
        "\n",
        "# Once all elements have been processed, the loop terminates."
      ],
      "metadata": {
        "colab": {
          "base_uri": "https://localhost:8080/"
        },
        "id": "r7BszVxX4AsC",
        "outputId": "4be57938-c062-41a7-ff72-1e89c8d50995"
      },
      "execution_count": null,
      "outputs": [
        {
          "output_type": "stream",
          "name": "stdout",
          "text": [
            "I like apple\n",
            "I like banana\n",
            "I like cherry\n",
            "I like date\n",
            "I like elderberry\n"
          ]
        }
      ]
    },
    {
      "cell_type": "markdown",
      "source": [
        "## How for loop work?\n",
        "\n",
        "- Initialization: The loop starts by initializing a loop variable. This variable can be any valid variable name and is used to represent each item in the sequence. In each iteration, the loop variable takes on the value of the next item in the sequence.\n",
        "\n",
        "- Iteration: The loop iterates over the sequence and executes the code block for each item in the sequence. The loop variable takes on the value of each item, one by one, as the loop progresses through the sequence.\n",
        "\n",
        "- Execution: The code block within the loop is executed for each iteration. You can include any statements or operations within the code block that you want to perform for each item in the sequence.\n",
        "\n",
        "- Termination: The loop continues iterating until it reaches the end of the sequence. Once all items in the sequence have been processed, the loop terminates, and the program proceeds to the next line of code after the loop.\n"
      ],
      "metadata": {
        "id": "q_BCsOcq4QM9"
      }
    },
    {
      "cell_type": "markdown",
      "source": [
        "## Iterating Through a String:\n",
        "\n",
        "Strings also make great companions for For Loops. You can easily loop through each character in a string, giving you the power to manipulate and transform them as you wish.\n"
      ],
      "metadata": {
        "id": "-eEP6pqN4Xup"
      }
    },
    {
      "cell_type": "code",
      "source": [
        "# Define a string\n",
        "text = \"Hello, World!\"\n",
        "\n",
        "# Initialization: The loop variable \"char\" is initialized with the first character of the string.\n",
        "# In this case, it starts with \"H\".\n",
        "\n",
        "for char in text:\n",
        "    # Iteration: The loop iterates through each character of the string, one at a time.\n",
        "\n",
        "    # Execution: Inside the loop, we can perform actions on the current character, which is stored in the loop variable \"char.\"\n",
        "    print(\"Current character:\", char)\n",
        "\n",
        "# Termination: The loop continues to iterate until it reaches the last character of the string (\"!\").\n",
        "# Once all characters have been processed, the loop terminates."
      ],
      "metadata": {
        "colab": {
          "base_uri": "https://localhost:8080/"
        },
        "id": "kYU69pXP4bdn",
        "outputId": "16404f8a-e97b-467e-de07-a04c058797cb"
      },
      "execution_count": null,
      "outputs": [
        {
          "output_type": "stream",
          "name": "stdout",
          "text": [
            "Current character: H\n",
            "Current character: e\n",
            "Current character: l\n",
            "Current character: l\n",
            "Current character: o\n",
            "Current character: ,\n",
            "Current character:  \n",
            "Current character: W\n",
            "Current character: o\n",
            "Current character: r\n",
            "Current character: l\n",
            "Current character: d\n",
            "Current character: !\n"
          ]
        }
      ]
    },
    {
      "cell_type": "markdown",
      "source": [
        "## Using Range() in For Loop:\n",
        "\n",
        "Range() is a clever little function that generates a sequence of numbers for you. You can then unleash the For Loop and iterate through these numbers. It's like having a personal number generator that obediently follows your commands. The possibilities are endless, from printing numbers to performing complex calculations.\n"
      ],
      "metadata": {
        "id": "LhEhx6d34fnN"
      }
    },
    {
      "cell_type": "code",
      "source": [
        "# Initialization: We use the range() function to create a range of numbers from 1 to 5 (inclusive).\n",
        "# The loop variable \"num\" is initialized with the first value in the range, which is 1.\n",
        "for num in range(1, 6):\n",
        "    # Iteration: The loop iterates through each number in the range, one at a time.\n",
        "\n",
        "    # Execution: Inside the loop, we can perform actions on the current number, which is stored in the loop variable \"num.\"\n",
        "    print(\"Current number:\", num)\n",
        "\n",
        "# Termination: The loop continues to iterate until it reaches the end of the range (5).\n",
        "# Once all numbers in the range have been processed, the loop terminates."
      ],
      "metadata": {
        "colab": {
          "base_uri": "https://localhost:8080/"
        },
        "id": "SUJMMRnm4i1l",
        "outputId": "d329e456-6adc-4138-f4bc-54aca2ba447c"
      },
      "execution_count": null,
      "outputs": [
        {
          "output_type": "stream",
          "name": "stdout",
          "text": [
            "Current number: 1\n",
            "Current number: 2\n",
            "Current number: 3\n",
            "Current number: 4\n",
            "Current number: 5\n"
          ]
        }
      ]
    },
    {
      "cell_type": "markdown",
      "source": [
        "## While Loops:\n",
        "\n",
        "While loops, on the other hand, are great when we are unsure about the number of times we want to repeat a code block. They follow a slightly different syntax. We start with the keyword \"while\" and then specify a condition. The code block will continue executing as long as the condition is true.\n"
      ],
      "metadata": {
        "id": "8yWRijaU4nNC"
      }
    },
    {
      "cell_type": "code",
      "source": [
        "# Initialization: We initialize a variable \"num\" to start with the first value in the range, which is 1.\n",
        "num = 1\n",
        "\n",
        "# The loop continues as long as \"num\" is less than or equal to 5.\n",
        "while num <= 5:\n",
        "    # Iteration: The loop iterates as long as the condition (num <= 5) is true.\n",
        "\n",
        "    # Execution: Inside the loop, we can perform actions on the current number, which is stored in the variable \"num.\"\n",
        "    print(\"Current number:\", num)\n",
        "\n",
        "    # Update the value of \"num\" for the next iteration.\n",
        "    num += 1\n",
        "\n",
        "# Termination: The loop terminates when the condition (num <= 5) becomes false."
      ],
      "metadata": {
        "colab": {
          "base_uri": "https://localhost:8080/"
        },
        "id": "bl9MMjFK4sTZ",
        "outputId": "00735456-44ea-4ae7-d56e-d3c385b43302"
      },
      "execution_count": null,
      "outputs": [
        {
          "output_type": "stream",
          "name": "stdout",
          "text": [
            "Current number: 1\n",
            "Current number: 2\n",
            "Current number: 3\n",
            "Current number: 4\n",
            "Current number: 5\n"
          ]
        }
      ]
    },
    {
      "cell_type": "markdown",
      "source": [
        "### You can also use an if statement within a While Loop to add more spice to your code."
      ],
      "metadata": {
        "id": "jvhk13ue4vb0"
      }
    },
    {
      "cell_type": "code",
      "source": [
        "# Initialization: We initialize a variable \"num\" to start with the value 1.\n",
        "num = 1\n",
        "\n",
        "# The loop continues as long as \"num\" is less than or equal to 5.\n",
        "while num <= 5:\n",
        "    # Iteration: The loop iterates as long as the condition (num <= 5) is true.\n",
        "\n",
        "    # Execution: Inside the loop, we can perform actions on the current number, which is stored in the variable \"num.\"\n",
        "\n",
        "    # Check if the current number is even using an \"if\" condition.\n",
        "    if num % 2 == 0:\n",
        "        print(num, \"is even.\")\n",
        "    else:\n",
        "        print(num, \"is odd.\")\n",
        "\n",
        "    # Update the value of \"num\" for the next iteration.\n",
        "    num += 1\n",
        "\n",
        "# Termination: The loop terminates when the condition (num <= 5) becomes false."
      ],
      "metadata": {
        "colab": {
          "base_uri": "https://localhost:8080/"
        },
        "id": "vNlDlkLl4wTW",
        "outputId": "a31a9524-edc7-463a-a791-fb1c5eb730fe"
      },
      "execution_count": null,
      "outputs": [
        {
          "output_type": "stream",
          "name": "stdout",
          "text": [
            "1 is odd.\n",
            "2 is even.\n",
            "3 is odd.\n",
            "4 is even.\n",
            "5 is odd.\n"
          ]
        }
      ]
    },
    {
      "cell_type": "markdown",
      "source": [
        "## Infinite Loop\n",
        "\n",
        "An infinite loop is an iterative control structure that never terminates (or eventually terminates\n",
        "with a system error). Infinite loops are generally the result of programming errors. For example,\n",
        "if the condition of a while loop can never be false, an infinite loop will result when executed.\n",
        "Such infinite loops can cause a program to “hang,” that is, to be unresponsive to the user. In such cases, the program must be terminated by the use of some special keyboard input (such as ctrl-C) to interrupt the execution.\n"
      ],
      "metadata": {
        "id": "usRbioB042QC"
      }
    },
    {
      "cell_type": "markdown",
      "source": [
        "## Nested Loops.\n",
        "\n",
        "In Python, nested loops refer to the concept of having one loop inside another loop. This allows us to perform repetitive tasks in a more intricate and powerful manner. The syntax of nested loops involves indenting the inner loop within the outer loop.\n",
        "\n",
        "```\n",
        "for outer_variable in outer_sequence:\n",
        "    # Outer loop statements\n",
        "\n",
        "    for inner_variable in inner_sequence:\n",
        "        # Inner loop statements\n",
        "\n",
        "    # More outer loop statements (if needed)\n",
        "\n",
        "# More code outside the outer loop\n",
        "\n",
        "```"
      ],
      "metadata": {
        "id": "sGa7sCwq5DAE"
      }
    },
    {
      "cell_type": "code",
      "source": [
        "# Two lists of numbers\n",
        "list1 = [1, 2, 3]\n",
        "list2 = [4, 5, 6]\n",
        "\n",
        "# Nested loops to find and display pairs of elements\n",
        "for num1 in list1:\n",
        "    for num2 in list2:\n",
        "        print(f\"Pair: ({num1}, {num2})\")"
      ],
      "metadata": {
        "colab": {
          "base_uri": "https://localhost:8080/"
        },
        "id": "Ov3-wgpS5LHL",
        "outputId": "bc5d33f5-cd39-4353-f50f-d7d6922bc19e"
      },
      "execution_count": null,
      "outputs": [
        {
          "output_type": "stream",
          "name": "stdout",
          "text": [
            "Pair: (1, 4)\n",
            "Pair: (1, 5)\n",
            "Pair: (1, 6)\n",
            "Pair: (2, 4)\n",
            "Pair: (2, 5)\n",
            "Pair: (2, 6)\n",
            "Pair: (3, 4)\n",
            "Pair: (3, 5)\n",
            "Pair: (3, 6)\n"
          ]
        }
      ]
    },
    {
      "cell_type": "markdown",
      "source": [
        "## Control Statements.\n",
        "\n",
        "Loop control statements in Python allow you to control the flow and execution of loops based on specific conditions.\n",
        "\n",
        "There are three main control statements:\n",
        "1. break.\n",
        "2. continue\n",
        "3. pass.\n",
        "\n",
        "These statements can be used in both while and for loops to alter the loop's behavior.\n"
      ],
      "metadata": {
        "id": "Y8tPcQFn5OlK"
      }
    },
    {
      "cell_type": "markdown",
      "source": [
        "### Break Statement.\n",
        "\n",
        "The break statement in Python is used to terminate the execution of the loop containing it. As soon as the loop encounters a break statement, it terminates and the execution jumps to the next statement outside the loop. It's like saying, **\"Hey, I'm done with this loop, let's move on!\"**\n"
      ],
      "metadata": {
        "id": "8PRsgUXF5TeB"
      }
    },
    {
      "cell_type": "code",
      "source": [
        "# Finding the first even number in a list\n",
        "\n",
        "numbers = [1, 3, 5, 6, 7, 8, 9]\n",
        "\n",
        "for num in numbers:\n",
        "    if num % 2 == 0:\n",
        "        print(f\"First even number found: {num}\")\n",
        "        break"
      ],
      "metadata": {
        "colab": {
          "base_uri": "https://localhost:8080/"
        },
        "id": "lEOQ32o45eP3",
        "outputId": "8abe0e49-8024-4289-f649-5c5bc10239d6"
      },
      "execution_count": null,
      "outputs": [
        {
          "output_type": "stream",
          "name": "stdout",
          "text": [
            "First even number found: 6\n"
          ]
        }
      ]
    },
    {
      "cell_type": "markdown",
      "source": [
        "## Continue Statement.\n",
        "\n",
        "The continue statement in Python allows you to skip the rest of the code in the current iteration of a loop, without terminating the loop as the break statement does. It's like saying, \"Hey, I'm not interested in running the rest of this code right now, let's move on to the next iteration.\"\n",
        "\n",
        "This can be handy when you have certain conditions that you want to skip and continue with the next iteration. Let’s now look at one example where we can make the best of the continue statement.\n"
      ],
      "metadata": {
        "id": "HfdJrEB95jBA"
      }
    },
    {
      "cell_type": "code",
      "source": [
        "# Skipping odd numbers and printing even numbers in a list\n",
        "\n",
        "numbers = [1, 2, 3, 4, 5, 6, 7, 8, 9]\n",
        "\n",
        "for num in numbers:\n",
        "    if num % 2 != 0:\n",
        "        continue\n",
        "    print(f\"Even number found: {num}\")"
      ],
      "metadata": {
        "colab": {
          "base_uri": "https://localhost:8080/"
        },
        "id": "ywNY5vw65kPA",
        "outputId": "4e53c93b-a806-4fec-8e9c-9370d8aed939"
      },
      "execution_count": null,
      "outputs": [
        {
          "output_type": "stream",
          "name": "stdout",
          "text": [
            "Even number found: 2\n",
            "Even number found: 4\n",
            "Even number found: 6\n",
            "Even number found: 8\n"
          ]
        }
      ]
    },
    {
      "cell_type": "markdown",
      "source": [
        "By using the continue statement, you can save yourself from writing complex if-else blocks to handle such scenarios. It's like a magic wand that lets you jump straight to the next iteration without any hassle.\n",
        "\n",
        "So, the next time you find yourself in a loop and want to skip some code and move on, just remember the mighty continue statement!\n"
      ],
      "metadata": {
        "id": "8bxopwUf5pTj"
      }
    },
    {
      "cell_type": "markdown",
      "source": [
        "## Pass Statement.\n",
        "\n",
        "The pass statement in Python is a magical tool that does absolutely nothing. Yes, you heard it right - NOTHING! It's like having a command that just exists but serves no purpose. It's like a decoration piece in your code that makes it look complete without actually contributing anything meaningful.\n"
      ],
      "metadata": {
        "id": "agXjxLQb5r_A"
      }
    },
    {
      "cell_type": "code",
      "source": [
        "for i in range(5):\n",
        "    pass  # Placeholder for future code"
      ],
      "metadata": {
        "id": "mqHiwgIr5s7t"
      },
      "execution_count": null,
      "outputs": []
    },
    {
      "cell_type": "markdown",
      "source": [
        "So, next time you come across a situation where you need to write some code but don't actually need to do anything, remember the pass statement."
      ],
      "metadata": {
        "id": "KMVh_jHB5w_7"
      }
    }
  ]
}