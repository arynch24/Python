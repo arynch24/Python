{
  "nbformat": 4,
  "nbformat_minor": 0,
  "metadata": {
    "colab": {
      "provenance": []
    },
    "kernelspec": {
      "name": "python3",
      "display_name": "Python 3"
    },
    "language_info": {
      "name": "python"
    }
  },
  "cells": [
    {
      "cell_type": "code",
      "execution_count": null,
      "metadata": {
        "colab": {
          "base_uri": "https://localhost:8080/"
        },
        "id": "42GjEAK2jBOl",
        "outputId": "d01b85fe-6db1-415b-fed4-0b617acb3c7d"
      },
      "outputs": [
        {
          "output_type": "stream",
          "name": "stdout",
          "text": [
            "[[0, 0, 0, 0], [0, 0, 0, 0], [0, 0, 0, 0], [0, 0, 0, 0]]\n",
            "[[1, 2, 3, 4], [0, 0, 0, 0], [0, 0, 0, 0], [0, 0, 0, 0]]\n",
            "#######\n",
            "[[1, 2, 3, 4], [0, 0, 0, 5], [0, 0, 0, 6], [0, 0, 0, 7]]\n",
            "#######\n",
            "[[1, 2, 3, 4], [0, 0, 0, 5], [0, 0, 0, 6], [10, 9, 8, 7]]\n",
            "#######\n",
            "[[1, 2, 3, 4], [12, 0, 0, 5], [11, 0, 0, 6], [10, 9, 8, 7]]\n",
            "#######\n",
            "[[1, 2, 3, 4], [12, 13, 14, 5], [11, 0, 0, 6], [10, 9, 8, 7]]\n",
            "#######\n",
            "[[1, 2, 3, 4], [12, 13, 14, 5], [11, 0, 15, 6], [10, 9, 8, 7]]\n",
            "#######\n",
            "[[1, 2, 3, 4], [12, 13, 14, 5], [11, 16, 15, 6], [10, 9, 8, 7]]\n",
            "#######\n",
            "[[1, 2, 3, 4], [12, 13, 14, 5], [11, 16, 15, 6], [10, 9, 8, 7]]\n",
            "#######\n",
            "[[1, 2, 3, 4], [12, 13, 14, 5], [11, 16, 15, 6], [10, 9, 8, 7]]\n"
          ]
        }
      ],
      "source": [
        "matrix = []\n",
        "\n",
        "for i in range(4):\n",
        "  matrix.append([0]*4)\n",
        "\n",
        "print(matrix)\n",
        "\n",
        "rows = 4\n",
        "cols = 4\n",
        "i=0\n",
        "j=0\n",
        "count=1\n",
        "while rows >0 and cols >0 :\n",
        "  #Move right\n",
        "  moves=0\n",
        "  while(moves<cols):\n",
        "    matrix[i][j]=count\n",
        "    moves +=1\n",
        "    j +=1\n",
        "    count +=1\n",
        "  rows -=1 #As one row is done now\n",
        "  i +=1\n",
        "  j -=1\n",
        "  print(matrix)\n",
        "  print(\"#######\")\n",
        "  #move down\n",
        "  moves=0\n",
        "  while(moves<rows):\n",
        "    matrix[i][j]=count\n",
        "    moves +=1\n",
        "    i +=1\n",
        "    count +=1\n",
        "  #As one column is done more\n",
        "  cols -=1\n",
        "  j -=1\n",
        "  i -=1\n",
        "  print(matrix)\n",
        "  print(\"#######\")\n",
        "  #move left\n",
        "  moves=0\n",
        "  while(moves<cols):\n",
        "    matrix[i][j]=count\n",
        "    moves +=1\n",
        "    j -=1\n",
        "    count +=1\n",
        "  rows -=1 #As one row is done now\n",
        "  i -=1\n",
        "  j +=1\n",
        "  print(matrix)\n",
        "  print(\"#######\")\n",
        "  #move up\n",
        "  moves=0\n",
        "  while(moves<rows):\n",
        "    matrix[i][j]=count\n",
        "    moves +=1\n",
        "    i -=1\n",
        "    count +=1\n",
        "  #As one column is done more\n",
        "  cols -=1\n",
        "  j +=1\n",
        "  i +=1\n",
        "  print(matrix)\n",
        "  print(\"#######\")\n",
        "\n",
        "print(matrix)\n"
      ]
    },
    {
      "cell_type": "code",
      "source": [
        "'''\n",
        "*       *\n",
        "* *   * *\n",
        "* * * * *\n",
        "* * * * *\n",
        "* * * * *\n",
        "\n",
        "'''\n",
        "\n",
        "for i in range(5):\n",
        "  for j in range(5):\n",
        "    if j<=i or j>=5-i-1 :\n",
        "      print(\"*\", end=\" \")\n",
        "    else:\n",
        "      print(\" \",end=\" \")\n",
        "  print()"
      ],
      "metadata": {
        "id": "qzVwdbwubPTW"
      },
      "execution_count": null,
      "outputs": []
    },
    {
      "cell_type": "code",
      "source": [],
      "metadata": {
        "id": "nspKS19HeQHv"
      },
      "execution_count": null,
      "outputs": []
    },
    {
      "cell_type": "code",
      "source": [
        "'''\n",
        "*           *\n",
        "* *       * *\n",
        "* * *   * * *\n",
        "* * * * * * *\n",
        "* * *   * * *\n",
        "* *       * *\n",
        "*           *\n",
        "'''\n",
        "\n",
        "\n",
        "\n",
        "n=7\n",
        "for i in range(int(n/2)):\n",
        "  for j in range(n):\n",
        "    if j<=i or j>=n-i-1 :\n",
        "      print(\"*\", end=\" \")\n",
        "    else:\n",
        "      print(\" \",end=\" \")\n",
        "  print()\n",
        "\n",
        "count = int(n/2)\n",
        "while(count>=0):\n",
        "    for j in range(n):\n",
        "      if j<=count or j>=n-count-1 :\n",
        "        print(\"*\", end=\" \")\n",
        "      else :\n",
        "        print(\" \",end=\" \")\n",
        "    print()\n",
        "    count -=1\n",
        "\n",
        "\n"
      ],
      "metadata": {
        "id": "lkiGFCHUctIN"
      },
      "execution_count": null,
      "outputs": []
    },
    {
      "cell_type": "code",
      "source": [
        "'''\n",
        "\\******/\n",
        "*\\****/*\n",
        "**\\**/**\n",
        "***\\/***\n",
        "***/\\***\n",
        "**/**\\**\n",
        "*/****\\*\n",
        "/******\\\n",
        "\n",
        "'''\n",
        "n=7\n",
        "for i in range(n):\n",
        "  for j in range(n):\n",
        "    if(j==i or i+j == n-1):\n",
        "     if i+j == (n-1):\n",
        "        print('/', end = '')\n",
        "     else:\n",
        "        print('\\\\', end = '')\n",
        "    else:\n",
        "        print('*', end = '')\n",
        "  print()\n"
      ],
      "metadata": {
        "id": "k5sdFP9RedB4"
      },
      "execution_count": null,
      "outputs": []
    }
  ]
}